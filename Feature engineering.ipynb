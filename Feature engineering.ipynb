{
 "cells": [
  {
   "cell_type": "code",
   "execution_count": 82,
   "id": "c0ebe299-9ab1-4bb2-84da-1e650f498b4a",
   "metadata": {},
   "outputs": [],
   "source": [
    "import pandas as pd\n",
    "import pickle\n",
    "\n",
    "# Indicateurs de la librairie \"Trading Technical Indicator\" (tti)\n",
    "from tti.indicators._relative_strength_index import RelativeStrengthIndex\n",
    "from tti.indicators._stochastic_oscillator import StochasticOscillator\n",
    "from tti.indicators._standard_deviation import StandardDeviation\n",
    "from tti.indicators._moving_average_convergence_divergence import MovingAverageConvergenceDivergence\n",
    "from tti.indicators._ichimoku_cloud import IchimokuCloud\n",
    "from tti.indicators._bollinger_bands import BollingerBands\n",
    "from tti.indicators._average_true_range import AverageTrueRange"
   ]
  },
  {
   "cell_type": "code",
   "execution_count": 78,
   "id": "3174ad21-4b98-402d-92ae-53fd99e442ef",
   "metadata": {},
   "outputs": [],
   "source": [
    "# Liste des indicateurs qu'on souhaite rajouter au dataset\n",
    "# Remarque : L'indicateur \"Average true range\" produit une erreur \n",
    "\n",
    "indicators = {\"rsi\": RelativeStrengthIndex, \n",
    "              \"stochastic_oscillator\": StochasticOscillator, \n",
    "              \"standard_deviation\": StandardDeviation, \n",
    "              \"macd\": MovingAverageConvergenceDivergence, \n",
    "              \"ichimoku_cloud\": IchimokuCloud, \n",
    "              \"bollinger_bands\": BollingerBands} "
   ]
  },
  {
   "cell_type": "code",
   "execution_count": 83,
   "id": "10d3e231-1b81-47e3-b75b-c716401dd917",
   "metadata": {},
   "outputs": [],
   "source": [
    "# Importation des données\n",
    "\n",
    "data = pd.read_pickle(\"./data/source.pkl\")\n",
    "\n",
    "# Ajout des indicateurs aux dataframes\n",
    "\n",
    "for company_name, company_data in data.items():\n",
    "    for indicator_name, indicator in indicators.items():\n",
    "        indicator_instance = indicator(company_data, fill_missing_values=False)\n",
    "        indicator_data = indicator_instance.getTiData()\n",
    "        company_data[indicator_data.columns] = indicator_data"
   ]
  },
  {
   "cell_type": "code",
   "execution_count": 84,
   "id": "71c04180-a792-486a-9c28-a42d7101b97a",
   "metadata": {},
   "outputs": [],
   "source": [
    "# Suppression des valeurs nulles\n",
    "\n",
    "for company_name, company_data in data.items():\n",
    "    company_data.dropna(how=\"any\", axis=0, inplace=True)"
   ]
  },
  {
   "cell_type": "code",
   "execution_count": 85,
   "id": "f108d63a-3162-44e4-a021-efe8488daddc",
   "metadata": {},
   "outputs": [],
   "source": [
    "# Sauvegarde\n",
    "\n",
    "with open(\"./data/processed.pkl\", \"wb\") as f:\n",
    "    pickle.dump(data, f)"
   ]
  },
  {
   "cell_type": "code",
   "execution_count": null,
   "id": "ef92383f-31c5-487b-a34b-7319801283cd",
   "metadata": {},
   "outputs": [],
   "source": []
  }
 ],
 "metadata": {
  "kernelspec": {
   "display_name": "Python 3 (ipykernel)",
   "language": "python",
   "name": "python3"
  },
  "language_info": {
   "codemirror_mode": {
    "name": "ipython",
    "version": 3
   },
   "file_extension": ".py",
   "mimetype": "text/x-python",
   "name": "python",
   "nbconvert_exporter": "python",
   "pygments_lexer": "ipython3",
   "version": "3.12.7"
  }
 },
 "nbformat": 4,
 "nbformat_minor": 5
}
